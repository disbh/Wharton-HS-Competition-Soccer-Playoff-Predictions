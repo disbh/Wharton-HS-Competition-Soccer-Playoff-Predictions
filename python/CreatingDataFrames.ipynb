{
 "cells": [
  {
   "cell_type": "code",
   "execution_count": 48,
   "id": "initial_id",
   "metadata": {
    "collapsed": true,
    "ExecuteTime": {
     "end_time": "2024-02-12T02:50:30.254074Z",
     "start_time": "2024-02-12T02:50:30.234443Z"
    }
   },
   "outputs": [],
   "source": [
    "import pandas as pd"
   ]
  },
  {
   "cell_type": "code",
   "outputs": [],
   "source": [
    "df = pd.read_csv(\"/Users/db/Desktop/dishanb/Wharton-HS-Competition-Soccer-Playoff-Predictions/data/given_data/NSL_regular_season_data_2.csv\")\n",
    "\n",
    "dff = pd.concat([df, df], ignore_index=True)\n",
    "dff.sort_values(by=dff.columns.tolist(), inplace=True)\n",
    "\n",
    "dff.reset_index(drop=True, inplace=True)\n",
    "\n",
    "values = [1, 2] * (len(dff) // 2) + [1] * (len(dff) % 2)\n",
    "dff['number'] = values\n",
    "\n",
    "fd = pd.DataFrame(columns=['Team', 'goalsFor', 'goalsAgainst', 'xGFor', 'xGAgainst',\n",
    "                           'shotsFor', 'shotsAgainst', 'cornersFor', 'cornersAgainst',\n",
    "                           'pkFor', 'pkAgainst', 'pkShotsFor', 'pkShotsAgainst', 'possessionPct', 'isHome', 'Result', 'PointsGained'])\n",
    "\n",
    "for index, row in dff.iterrows():\n",
    "    is_home = row['number'] == 1\n",
    "    fd.at[index, 'Team'] = row['HomeTeam'] if is_home else row['AwayTeam']\n",
    "    fd.at[index, 'goalsFor'], fd.at[index, 'goalsAgainst'] = (row['HomeScore'], row['AwayScore']) if is_home else (row['AwayScore'], row['HomeScore'])\n",
    "    fd.at[index, 'xGFor'], fd.at[index, 'xGAgainst'] = (row['Home_xG'], row['Away_xG']) if is_home else (row['Away_xG'], row['Home_xG'])\n",
    "    fd.at[index, 'shotsFor'], fd.at[index, 'shotsAgainst'] = (row['Home_shots'], row['Away_shots']) if is_home else (row['Away_shots'], row['Home_shots'])\n",
    "    fd.at[index, 'cornersFor'], fd.at[index, 'cornersAgainst'] = (row['Home_corner'], row['Away_corner']) if is_home else (row['Away_corner'], row['Home_corner'])\n",
    "    fd.at[index, 'pkFor'], fd.at[index, 'pkAgainst'] = (row['Home_PK_Goal'], row['Away_PK_Goal']) if is_home else (row['Away_PK_Goal'], row['Home_PK_Goal'])\n",
    "    fd.at[index, 'pkShotsFor'], fd.at[index, 'pkShotsAgainst'] = (row['Home_PK_shots'], row['Away_PK_shots']) if is_home else (row['Away_PK_shots'], row['Home_PK_shots'])\n",
    "    fd.at[index, 'possessionPct'] = row['Home_ToP'] if is_home else 1 - row['Home_ToP']\n",
    "    fd.at[index, 'isHome'] = int(is_home)\n"
   ],
   "metadata": {
    "collapsed": false,
    "ExecuteTime": {
     "end_time": "2024-02-12T02:50:30.398821Z",
     "start_time": "2024-02-12T02:50:30.247486Z"
    }
   },
   "id": "8a42be5eba4301dd",
   "execution_count": 49
  },
  {
   "cell_type": "code",
   "outputs": [],
   "source": [
    "# Defining a win, loss, or draw\n",
    "for index, row in fd.iterrows():\n",
    "    if row['goalsFor'] > row['goalsAgainst']:\n",
    "        row['Result'] = 1\n",
    "        row['PointsGained'] = 3\n",
    "    elif row['goalsAgainst'] > row['goalsFor']:\n",
    "        row['Result'] = -1\n",
    "        row['PointsGained'] = 0\n",
    "    elif row['goalsFor'] == row['goalsAgainst']:\n",
    "        row['Result'] = 0\n",
    "        row['PointsGained'] = 1"
   ],
   "metadata": {
    "collapsed": false,
    "ExecuteTime": {
     "end_time": "2024-02-12T02:50:30.419708Z",
     "start_time": "2024-02-12T02:50:30.415826Z"
    }
   },
   "id": "1fa76eb6b94a57d0",
   "execution_count": 50
  },
  {
   "cell_type": "code",
   "outputs": [],
   "source": [
    "fd.to_csv(\"/Users/db/Desktop/dishanb/Wharton-HS-Competition-Soccer-Playoff-Predictions/data/manipulated_data/detailedRegSeasonData.csv\")"
   ],
   "metadata": {
    "collapsed": false,
    "ExecuteTime": {
     "end_time": "2024-02-12T02:50:30.422126Z",
     "start_time": "2024-02-12T02:50:30.417598Z"
    }
   },
   "id": "a7a1e63d6ff3f6a",
   "execution_count": 51
  },
  {
   "cell_type": "code",
   "outputs": [],
   "source": [
    "atHome = fd[fd['isHome'] == 1]\n",
    "atAway = fd[fd['isHome'] == 0]\n",
    "\n",
    "unique_teams = fd['Team'].unique()\n"
   ],
   "metadata": {
    "collapsed": false,
    "ExecuteTime": {
     "end_time": "2024-02-12T02:50:30.427384Z",
     "start_time": "2024-02-12T02:50:30.422909Z"
    }
   },
   "id": "692d4dd7f32fe569",
   "execution_count": 52
  },
  {
   "cell_type": "code",
   "outputs": [],
   "source": [
    "points_sum_per_team = fd.groupby('Team')['PointsGained'].sum().reset_index()\n",
    "winCount = fd.groupby('Team')['Result'].apply(lambda x: (x == 1).sum()).reset_index()\n",
    "lossCount = fd.groupby('Team')['Result'].apply(lambda x: (x == -1).sum()).reset_index()\n",
    "drawCount = fd.groupby('Team')['Result'].apply(lambda x: (x == 0).sum()).reset_index()"
   ],
   "metadata": {
    "collapsed": false,
    "ExecuteTime": {
     "end_time": "2024-02-12T02:50:30.432448Z",
     "start_time": "2024-02-12T02:50:30.425538Z"
    }
   },
   "id": "dd4c601a5ba88c39",
   "execution_count": 53
  },
  {
   "cell_type": "code",
   "outputs": [],
   "source": [
    "rankings = pd.DataFrame()"
   ],
   "metadata": {
    "collapsed": false,
    "ExecuteTime": {
     "end_time": "2024-02-12T02:50:30.436652Z",
     "start_time": "2024-02-12T02:50:30.433144Z"
    }
   },
   "id": "d7e367b9482840c7",
   "execution_count": 54
  },
  {
   "cell_type": "code",
   "outputs": [],
   "source": [
    "rankings['Team'] = points_sum_per_team['Team']\n",
    "rankings['Points'] = points_sum_per_team['PointsGained']\n",
    "rankings['Wins'] = winCount['Result']\n",
    "rankings['Losses'] = lossCount['Result']\n",
    "rankings['Draws'] = drawCount['Result']\n",
    "\n",
    "rankings['WinPercentage'] = rankings['Wins'] / (rankings['Wins'] + rankings['Losses'] + rankings['Draws'])\n",
    "rankings['LossPercentage'] = rankings['Losses'] / (rankings['Wins'] + rankings['Losses'] + rankings['Draws'])\n",
    "rankings['DrawPercentage'] = rankings['Draws'] / (rankings['Wins'] + rankings['Losses'] + rankings['Draws'])\n",
    "\n",
    "rankings['GoalDifference'] = fd.groupby('Team')['goalsFor'].sum().reset_index()['goalsFor'] - fd.groupby('Team')['goalsAgainst'].sum().reset_index()['goalsAgainst']\n",
    "rankings['xGDifference'] = fd.groupby('Team')['xGFor'].sum().reset_index()['xGFor'] - fd.groupby('Team')['xGAgainst'].sum().reset_index()['xGAgainst']\n",
    "rankings['ShotsFor'] = fd.groupby('Team')['shotsFor'].sum().reset_index()['shotsFor']\n",
    "rankings['ShotsAgainst'] = fd.groupby('Team')['shotsAgainst'].sum().reset_index()['shotsAgainst']\n",
    "rankings['CornersFor'] = fd.groupby('Team')['cornersFor'].sum().reset_index()['cornersFor']\n",
    "rankings['CornersAgainst'] = fd.groupby('Team')['cornersAgainst'].sum().reset_index()['cornersAgainst']\n",
    "rankings['PKFor'] = fd.groupby('Team')['pkFor'].sum().reset_index()['pkFor']\n",
    "rankings['PKAgainst'] = fd.groupby('Team')['pkAgainst'].sum().reset_index()['pkAgainst']\n",
    "rankings['PKShotsFor'] = fd.groupby('Team')['pkShotsFor'].sum().reset_index()['pkShotsFor']\n",
    "rankings['PKShotsAgainst'] = fd.groupby('Team')['pkShotsAgainst'].sum().reset_index()['pkShotsAgainst']\n",
    "rankings['PossessionPct'] = fd.groupby('Team')['possessionPct'].mean().reset_index()['possessionPct']\n",
    "\n"
   ],
   "metadata": {
    "collapsed": false,
    "ExecuteTime": {
     "end_time": "2024-02-12T02:50:42.932025Z",
     "start_time": "2024-02-12T02:50:42.923812Z"
    }
   },
   "id": "781bd0a51801770a",
   "execution_count": 60
  },
  {
   "cell_type": "code",
   "outputs": [],
   "source": [
    "rankings = rankings.sort_values(by='Points', ascending=False)\n",
    "rankings\n",
    "rankings.to_csv(\"/Users/db/Desktop/dishanb/Wharton-HS-Competition-Soccer-Playoff-Predictions/data/manipulated_data/rankings.csv\")"
   ],
   "metadata": {
    "collapsed": false,
    "ExecuteTime": {
     "end_time": "2024-02-12T02:50:43.787308Z",
     "start_time": "2024-02-12T02:50:43.775029Z"
    }
   },
   "id": "490c76fc8fe7d76b",
   "execution_count": 61
  },
  {
   "cell_type": "code",
   "outputs": [],
   "source": [],
   "metadata": {
    "collapsed": false,
    "ExecuteTime": {
     "end_time": "2024-02-12T02:50:30.453525Z",
     "start_time": "2024-02-12T02:50:30.448004Z"
    }
   },
   "id": "9dc9172e2b9c5b10",
   "execution_count": 56
  },
  {
   "cell_type": "code",
   "outputs": [],
   "source": [
    "overallAvgData = []\n",
    "for team in unique_teams:\n",
    "    team_data = fd.loc[fd['Team'] == team]\n",
    "    team_data_numeric = team_data.apply(pd.to_numeric, errors='coerce')\n",
    "    team_data_numeric_mean = team_data_numeric.mean().to_dict()\n",
    "    team_data_numeric_mean['Team'] = team\n",
    "    overallAvgData.append(team_data_numeric_mean)\n",
    "\n",
    "overallAverages = pd.DataFrame(overallAvgData)\n"
   ],
   "metadata": {
    "collapsed": false,
    "ExecuteTime": {
     "end_time": "2024-02-12T02:50:30.474679Z",
     "start_time": "2024-02-12T02:50:30.450965Z"
    }
   },
   "id": "42ae8ea9fde3c9f",
   "execution_count": 57
  },
  {
   "cell_type": "code",
   "outputs": [],
   "source": [
    "homeAvgData = []\n",
    "for team in unique_teams:\n",
    "    team_data = atHome.loc[atHome['Team'] == team]\n",
    "    team_data_numeric = team_data.apply(pd.to_numeric, errors='coerce')\n",
    "    team_data_numeric_mean = team_data_numeric.mean().to_dict()\n",
    "    team_data_numeric_mean['Team'] = team\n",
    "    homeAvgData.append(team_data_numeric_mean)\n",
    "homeAverages = pd.DataFrame(homeAvgData)\n",
    "\n",
    "awayAvgData = []\n",
    "for team in unique_teams:\n",
    "    team_data = atAway.loc[atAway['Team'] == team]\n",
    "    team_data_numeric = team_data.apply(pd.to_numeric, errors='coerce')\n",
    "    team_data_numeric_mean = team_data_numeric.mean().to_dict()\n",
    "    team_data_numeric_mean['Team'] = team\n",
    "    awayAvgData.append(team_data_numeric_mean)\n",
    "awayAverages = pd.DataFrame(awayAvgData)"
   ],
   "metadata": {
    "collapsed": false,
    "ExecuteTime": {
     "end_time": "2024-02-12T02:50:30.516331Z",
     "start_time": "2024-02-12T02:50:30.476182Z"
    }
   },
   "id": "acd594132293a8d",
   "execution_count": 58
  },
  {
   "cell_type": "code",
   "outputs": [],
   "source": [
    "overallAverages.to_csv(\"/Users/db/Desktop/dishanb/Wharton-HS-Competition-Soccer-Playoff-Predictions/data/manipulated_data/overallAverages.csv\")\n",
    "homeAverages.to_csv(\"/Users/db/Desktop/dishanb/Wharton-HS-Competition-Soccer-Playoff-Predictions/data/manipulated_data/homeAverages.csv\")\n",
    "awayAverages.to_csv(\"/Users/db/Desktop/dishanb/Wharton-HS-Competition-Soccer-Playoff-Predictions/data/manipulated_data/awayAverages.csv\")"
   ],
   "metadata": {
    "collapsed": false,
    "ExecuteTime": {
     "end_time": "2024-02-12T02:50:30.521384Z",
     "start_time": "2024-02-12T02:50:30.516859Z"
    }
   },
   "id": "1e14ebdde5ecb0c",
   "execution_count": 59
  },
  {
   "cell_type": "code",
   "outputs": [],
   "source": [],
   "metadata": {
    "collapsed": false,
    "ExecuteTime": {
     "end_time": "2024-02-12T02:50:30.521903Z",
     "start_time": "2024-02-12T02:50:30.520665Z"
    }
   },
   "id": "775e52e91d63106a",
   "execution_count": 59
  }
 ],
 "metadata": {
  "kernelspec": {
   "display_name": "Python 3",
   "language": "python",
   "name": "python3"
  },
  "language_info": {
   "codemirror_mode": {
    "name": "ipython",
    "version": 2
   },
   "file_extension": ".py",
   "mimetype": "text/x-python",
   "name": "python",
   "nbconvert_exporter": "python",
   "pygments_lexer": "ipython2",
   "version": "2.7.6"
  }
 },
 "nbformat": 4,
 "nbformat_minor": 5
}
